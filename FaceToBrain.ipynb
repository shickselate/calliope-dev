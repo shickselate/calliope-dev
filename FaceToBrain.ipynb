{
  "nbformat": 4,
  "nbformat_minor": 0,
  "metadata": {
    "colab": {
      "provenance": [],
      "authorship_tag": "ABX9TyOVKE37oH+O5n65tPaA+ihD",
      "include_colab_link": true
    },
    "kernelspec": {
      "name": "python3",
      "display_name": "Python 3"
    },
    "language_info": {
      "name": "python"
    }
  },
  "cells": [
    {
      "cell_type": "markdown",
      "metadata": {
        "id": "view-in-github",
        "colab_type": "text"
      },
      "source": [
        "<a href=\"https://colab.research.google.com/github/shickselate/calliope-dev/blob/main/FaceToBrain.ipynb\" target=\"_parent\"><img src=\"https://colab.research.google.com/assets/colab-badge.svg\" alt=\"Open In Colab\"/></a>"
      ]
    },
    {
      "cell_type": "code",
      "execution_count": null,
      "metadata": {
        "collapsed": true,
        "id": "dFB7JXEy4-Wz"
      },
      "outputs": [],
      "source": [
        "!pip install opencv-python mediapipe matplotlib nibabel scikit-image plotly"
      ]
    },
    {
      "cell_type": "code",
      "source": [
        "import cv2\n",
        "import numpy as np\n",
        "import mediapipe as mp\n",
        "import matplotlib.pyplot as plt\n",
        "import plotly.graph_objs as go\n",
        "from google.colab import files\n",
        "from pathlib import Path\n"
      ],
      "metadata": {
        "id": "X7feR7oX5zRq"
      },
      "execution_count": null,
      "outputs": []
    },
    {
      "cell_type": "code",
      "source": [
        "import nibabel as nib\n",
        "from skimage import measure"
      ],
      "metadata": {
        "id": "8hmTJCLUEaq-"
      },
      "execution_count": null,
      "outputs": []
    },
    {
      "cell_type": "code",
      "source": [
        "uploaded = files.upload()\n",
        "image_path = Path(next(iter(uploaded)))\n",
        "image = cv2.imread(str(image_path))\n",
        "rgb_image = cv2.cvtColor(image, cv2.COLOR_BGR2RGB)\n",
        "h, w, _ = image.shape\n",
        "\n",
        "# plt.imshow(rgb_image)\n",
        "# plt.title(\"Uploaded Face\")\n",
        "# plt.axis('off')\n",
        "# plt.show()\n"
      ],
      "metadata": {
        "id": "2Ty7mOjk54_V"
      },
      "execution_count": null,
      "outputs": []
    },
    {
      "cell_type": "code",
      "source": [
        "mp_face_mesh = mp.solutions.face_mesh\n",
        "face_mesh = mp_face_mesh.FaceMesh(static_image_mode=True)\n",
        "results = face_mesh.process(rgb_image)\n",
        "\n",
        "landmarks = []\n",
        "if results.multi_face_landmarks:\n",
        "    for lm in results.multi_face_landmarks[0].landmark:\n",
        "        x, y = int(lm.x * w), int(lm.y * h)\n",
        "        landmarks.append((x, y))\n",
        "\n",
        "landmarks = np.array(landmarks)\n",
        "print(f\"Extracted {len(landmarks)} facial landmarks.\")\n",
        "\n",
        "# Visualise landmarks\n",
        "image_copy = rgb_image.copy()\n",
        "for (x, y) in landmarks:\n",
        "    cv2.circle(image_copy, (x, y), 10, (0, 255, 0), -1)\n",
        "\n",
        "plt.figure(figsize=(8, 8))\n",
        "plt.imshow(image_copy)\n",
        "plt.title(\"Facial Landmarks\")\n",
        "plt.axis('off')\n",
        "plt.show()\n"
      ],
      "metadata": {
        "id": "ouJ7y47X57ze"
      },
      "execution_count": null,
      "outputs": []
    },
    {
      "cell_type": "code",
      "source": [
        "# Approximate MediaPipe indices\n",
        "fiducial_indices = [168, 33, 263, 234, 454]  # nasion, LOC, ROC, LPA, RPA\n",
        "subject_fiducials_2d = landmarks[fiducial_indices]\n",
        "print(\"Subject facial fiducials:\\n\", subject_fiducials_2d)\n"
      ],
      "metadata": {
        "colab": {
          "base_uri": "https://localhost:8080/"
        },
        "id": "NBK_ZsZk6GvO",
        "outputId": "7bc34ad4-5d47-434c-d8e2-2addbb4c5db6"
      },
      "execution_count": null,
      "outputs": [
        {
          "output_type": "stream",
          "name": "stdout",
          "text": [
            "Subject facial fiducials:\n",
            " [[1257 1419]\n",
            " [ 844 1465]\n",
            " [1615 1465]\n",
            " [ 622 1645]\n",
            " [1748 1631]]\n"
          ]
        }
      ]
    },
    {
      "cell_type": "code",
      "source": [
        "import numpy as np\n",
        "import plotly.graph_objs as go\n",
        "\n",
        "# ------------------------\n",
        "# Configuration\n",
        "# ------------------------\n",
        "\n",
        "FIDUCIAL_NAMES = [\"Nasion\", \"LOC\", \"ROC\", \"LPA\", \"RPA\"]\n",
        "TARGET_NAMES = [\"ACC\", \"PGC\", \"SGC\"]\n",
        "\n",
        "\n",
        "TEMPLATE_FIDUCIALS = np.array([\n",
        "    [0, 100, 5],     # Nasion — forward and higher\n",
        "    [-30, 95, 0],    # LOC — eye level\n",
        "    [30, 95, 0],     # ROC\n",
        "    [-60, 50, -15],  # LPA — tragus region\n",
        "    [60, 50, -15]    # RPA\n",
        "])\n",
        "\n",
        "\n",
        "TEMPLATE_TARGETS = np.array([\n",
        "    [0, 50, 30],     # ACC\n",
        "    [0, 40, 0],      # Pregenual ACC\n",
        "    [0, 25, -10],    # Subgenual ACC\n",
        "    [-22, -4, -20],  # Left Amygdala\n",
        "    [22, -4, -20],   # Right Amygdala\n",
        "    [-12, 10, 5],    # Left ALIC\n",
        "    [12, 10, 5]      # Right ALIC\n",
        "])\n",
        "\n",
        "TARGET_NAMES = [\n",
        "    \"ACC\", \"PGC\", \"SGC\",\n",
        "    \"L Amygdala\", \"R Amygdala\",\n",
        "    \"L ALIC\", \"R ALIC\"\n",
        "]\n",
        "\n",
        "\n",
        "Z_DEPTH = 0  # Estimated depth of the face relative to brain (mm)\n",
        "\n",
        "# ------------------------\n",
        "# Utility Functions\n",
        "# ------------------------\n",
        "\n",
        "def promote_to_3d(points_2d, z_value=-50):\n",
        "    return np.hstack([points_2d, np.full((points_2d.shape[0], 1), z_value)])\n",
        "\n",
        "def estimate_similarity_transform(template_pts, subject_pts):\n",
        "    template_mean = template_pts.mean(axis=0)\n",
        "    subject_mean = subject_pts.mean(axis=0)\n",
        "    A = template_pts - template_mean\n",
        "    B = subject_pts - subject_mean\n",
        "    H = A.T @ B\n",
        "    U, _, Vt = np.linalg.svd(H)\n",
        "    R = Vt.T @ U.T\n",
        "    if np.linalg.det(R) < 0:\n",
        "        Vt[-1, :] *= -1\n",
        "        R = Vt.T @ U.T\n",
        "    s = np.trace(H @ R.T) / np.trace(A.T @ A)\n",
        "    t = subject_mean - s * R @ template_mean\n",
        "    return s, R, t\n",
        "\n",
        "def apply_transform(points, s, R, t):\n",
        "    return s * (points @ R.T) + t\n",
        "\n",
        "def invert_transform(points, s, R, t):\n",
        "    R_inv = R.T\n",
        "    s_inv = 1.0 / s\n",
        "    return s_inv * ((points - t) @ R_inv)\n",
        "\n",
        "def reprojection_error(original, recovered):\n",
        "    return np.linalg.norm(original - recovered, axis=1)\n",
        "\n",
        "# ------------------------\n",
        "# Plotting\n",
        "# ------------------------\n",
        "\n",
        "def plot_subject_space(fiducials, targets):\n",
        "    fig = go.Figure()\n",
        "\n",
        "    fig.add_trace(go.Scatter3d(\n",
        "        x=fiducials[:, 0], y=fiducials[:, 1], z=fiducials[:, 2],\n",
        "        mode='markers+text',\n",
        "        marker=dict(size=5, color='blue'),\n",
        "        text=FIDUCIAL_NAMES,\n",
        "        name='Facial Fiducials'\n",
        "    ))\n",
        "\n",
        "    fig.add_trace(go.Scatter3d(\n",
        "        x=targets[:, 0], y=targets[:, 1], z=targets[:, 2],\n",
        "        mode='markers+text',\n",
        "        marker=dict(size=5, color='red'),\n",
        "        text=TARGET_NAMES,\n",
        "        name='Estimated Brain Targets'\n",
        "    ))\n",
        "\n",
        "    fig.update_layout(\n",
        "        title=\"MRI-Free Fiducials and Brain Targets (Subject Space)\",\n",
        "        scene=dict(xaxis_title='X', yaxis_title='Y', zaxis_title='Z', aspectmode='data'),\n",
        "        margin=dict(l=0, r=0, t=40, b=0)\n",
        "    )\n",
        "    fig.show()\n",
        "\n",
        "# ------------------------\n",
        "# Main Pipeline\n",
        "# ------------------------\n",
        "\n",
        "def run_pipeline(subject_fiducials_2d):\n",
        "    subject_fiducials_3d = promote_to_3d(subject_fiducials_2d, Z_DEPTH)\n",
        "    s, R, t = estimate_similarity_transform(TEMPLATE_FIDUCIALS, subject_fiducials_3d)\n",
        "    subject_targets = apply_transform(TEMPLATE_TARGETS, s, R, t)\n",
        "    fiducials_mni = invert_transform(subject_fiducials_3d, s, R, t)\n",
        "    template_recovered = invert_transform(subject_targets, s, R, t)\n",
        "\n",
        "    # Optional: print reprojection error\n",
        "    err = reprojection_error(TEMPLATE_TARGETS, template_recovered)\n",
        "    print(\"Target reprojection error (mm):\", np.round(err, 2))\n",
        "\n",
        "    plot_subject_space(subject_fiducials_3d, subject_targets)\n",
        "\n",
        "    return {\n",
        "        \"s\": s, \"R\": R, \"t\": t,\n",
        "        \"subject_targets\": subject_targets,\n",
        "        \"fiducials_mni\": fiducials_mni,\n",
        "        \"template_recovered\": template_recovered\n",
        "    }\n",
        "\n",
        "results = run_pipeline(subject_fiducials_2d)\n",
        "\n",
        "fiducials_mni = results[\"fiducials_mni\"]\n",
        "template_targets = TEMPLATE_TARGETS  # already defined in the config\n",
        "\n",
        "template_targets = results[\"template_recovered\"]"
      ],
      "metadata": {
        "id": "_96PyePs66bQ"
      },
      "execution_count": null,
      "outputs": []
    },
    {
      "cell_type": "code",
      "source": [
        "from google.colab import files\n",
        "uploaded = files.upload()\n",
        "\n",
        "filename = next(iter(uploaded))  # gets your .nii file name\n"
      ],
      "metadata": {
        "id": "TtBFeMyMDqNa"
      },
      "execution_count": null,
      "outputs": []
    },
    {
      "cell_type": "code",
      "source": [
        "# Path to your NIfTI file\n",
        "nii_file = 'icbm_avg_152_t1_tal_nlin_symmetric_VI.nii'\n",
        "\n",
        "# Load the image\n",
        "img = nib.load(nii_file)\n",
        "data = img.get_fdata()\n",
        "affine = img.affine\n",
        "\n",
        "\n",
        "# Extract brain surface with marching cubes\n",
        "level = 30  # Tune this based on your volume\n",
        "\n",
        "verts, faces, normals, _ = measure.marching_cubes(data, level=level)\n",
        "\n",
        "# Convert to MNI space using affine\n",
        "verts_h = np.hstack([verts, np.ones((verts.shape[0], 1))])\n",
        "verts_mni = verts_h @ affine.T"
      ],
      "metadata": {
        "id": "kkYh5hUgEfYQ"
      },
      "execution_count": null,
      "outputs": []
    },
    {
      "cell_type": "code",
      "source": [
        "# Plot targets with brain\n",
        "\n",
        "fig = go.Figure()\n",
        "\n",
        "# Brain mesh\n",
        "fig.add_trace(go.Mesh3d(\n",
        "    x=verts_mni[:, 0], y=verts_mni[:, 1], z=verts_mni[:, 2],\n",
        "    i=faces[:, 0], j=faces[:, 1], k=faces[:, 2],\n",
        "    color='lightgrey', opacity=0.2, name='MNI Brain'\n",
        "))\n",
        "\n",
        "# Fiducials\n",
        "fig.add_trace(go.Scatter3d(\n",
        "    x=fiducials_mni[:, 0],\n",
        "    y=fiducials_mni[:, 1],\n",
        "    z=fiducials_mni[:, 2],\n",
        "    mode='markers+text',\n",
        "    marker=dict(size=5, color='blue'),\n",
        "    text=FIDUCIAL_NAMES,\n",
        "    name='Facial Fiducials'\n",
        "))\n",
        "\n",
        "# Deep brain targets (ACC etc.)\n",
        "fig.add_trace(go.Scatter3d(\n",
        "    x=template_targets[:, 0],\n",
        "    y=template_targets[:, 1],\n",
        "    z=template_targets[:, 2],\n",
        "    mode='markers+text',\n",
        "    marker=dict(size=5, color='red'),\n",
        "    text=TARGET_NAMES,\n",
        "    name='Deep Brain Targets'\n",
        "))\n",
        "\n",
        "fig.update_layout(\n",
        "    title=\"MRI-Free Fiducials + Deep Targets Overlaid on MNI Brain\",\n",
        "    scene=dict(xaxis_title='X', yaxis_title='Y', zaxis_title='Z', aspectmode='data'),\n",
        "    margin=dict(l=0, r=0, t=40, b=0)\n",
        ")\n",
        "\n",
        "fig.show()\n"
      ],
      "metadata": {
        "id": "DC1zmz_uEvFG"
      },
      "execution_count": null,
      "outputs": []
    }
  ]
}